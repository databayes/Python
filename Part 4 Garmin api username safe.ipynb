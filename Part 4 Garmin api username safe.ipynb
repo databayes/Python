{
 "cells": [
  {
   "cell_type": "code",
   "execution_count": 1,
   "id": "289c08ca-4bee-416f-b4fd-520870adc28b",
   "metadata": {},
   "outputs": [
    {
     "data": {
      "application/vnd.livy.statement-meta+json": {
       "execution_finish_time": "2024-03-15T17:24:08.4297431Z",
       "execution_start_time": "2024-03-15T17:24:05.73894Z",
       "livy_statement_state": "available",
       "parent_msg_id": "80a67bdc-6b60-469a-99a7-92cb06e4e27d",
       "queued_time": "2024-03-15T17:23:57.3345051Z",
       "session_id": "ff8ac6a6-26d5-4075-8548-a90b609a4295",
       "session_start_time": "2024-03-15T17:23:57.604697Z",
       "spark_pool": null,
       "state": "finished",
       "statement_id": 3
      },
      "text/plain": [
       "StatementMeta(, ff8ac6a6-26d5-4075-8548-a90b609a4295, 3, Finished, Available)"
      ]
     },
     "metadata": {},
     "output_type": "display_data"
    }
   ],
   "source": [
    "from cryptography.fernet import Fernet\n",
    "\n",
    "pathway = \"/lakehouse/default/\" + \"Files/Cryptography/my_encryption_key.key\"\n",
    "\n",
    "# Load your previously stored key\n",
    "with open(pathway, 'rb') as mykey:\n",
    "    key = mykey.read()\n",
    "\n",
    "cipher_suite = Fernet(key)\n",
    "\n",
    "# Your Garmin account credentials\n",
    "username = \"username\"\n",
    "password = \"password\"\n",
    "\n",
    "# Encrypt your credentials\n",
    "encrypted_username = cipher_suite.encrypt(username.encode('utf-8'))\n",
    "encrypted_password = cipher_suite.encrypt(password.encode('utf-8'))\n",
    "\n",
    "# Define a path for encrypted credentials\n",
    "encrypted_credentials_path = \"/lakehouse/default/\" + \"Files/Cryptography/encrypted_credentials.txt\"\n",
    "\n",
    "# Write the encrypted credentials to the file\n",
    "with open(encrypted_credentials_path, 'wb') as file:\n",
    "    file.write(encrypted_username + b'\\n' + encrypted_password)\n"
   ]
  }
 ],
 "metadata": {
  "kernel_info": {
   "name": "synapse_pyspark"
  },
  "kernelspec": {
   "display_name": "Synapse PySpark",
   "language": "Python",
   "name": "synapse_pyspark"
  },
  "language_info": {
   "name": "python"
  },
  "microsoft": {
   "language": "python",
   "ms_spell_check": {
    "ms_spell_check_language": "en"
   }
  },
  "nteract": {
   "version": "nteract-front-end@1.0.0"
  },
  "spark_compute": {
   "compute_id": "/trident/default"
  },
  "trident": {
   "lakehouse": {
    "default_lakehouse": "1a5d0aaf-573b-472b-b0b3-48c8afeb4ff2",
    "default_lakehouse_name": "Garmin",
    "default_lakehouse_workspace_id": "cdf6e060-d604-4869-9fdb-b4afea0ab27e",
    "known_lakehouses": [
     {
      "id": "1a5d0aaf-573b-472b-b0b3-48c8afeb4ff2"
     }
    ]
   }
  },
  "widgets": {}
 },
 "nbformat": 4,
 "nbformat_minor": 5
}
