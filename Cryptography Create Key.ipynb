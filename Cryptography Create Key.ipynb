{
 "cells": [
  {
   "cell_type": "code",
   "execution_count": 1,
   "id": "9abb2d5f-ba66-470d-89d9-52e68d3f2748",
   "metadata": {},
   "outputs": [
    {
     "data": {
      "application/vnd.livy.statement-meta+json": {
       "execution_finish_time": "2024-03-15T17:23:26.9362471Z",
       "execution_start_time": "2024-03-15T17:23:23.864207Z",
       "livy_statement_state": "available",
       "parent_msg_id": "27051fbe-b397-4321-a7e3-cbd95f46a27e",
       "queued_time": "2024-03-15T17:23:14.1123302Z",
       "session_id": "978ab352-489d-4230-8458-43a30a6afa7b",
       "session_start_time": "2024-03-15T17:23:14.4247618Z",
       "spark_pool": null,
       "state": "finished",
       "statement_id": 3
      },
      "text/plain": [
       "StatementMeta(, 978ab352-489d-4230-8458-43a30a6afa7b, 3, Finished, Available)"
      ]
     },
     "metadata": {},
     "output_type": "display_data"
    }
   ],
   "source": [
    "from cryptography.fernet import Fernet\n",
    "\n",
    "# Generate a key\n",
    "key = Fernet.generate_key()\n",
    "pathway = \"/lakehouse/default/\" + \"Files/Cryptography/my_encryption_key.key\"\n",
    "\n",
    "# Store this key in a file\n",
    "with open(pathway, 'wb') as mykey:\n",
    "    mykey.write(key)\n",
    "\n"
   ]
  }
 ],
 "metadata": {
  "kernel_info": {
   "name": "synapse_pyspark"
  },
  "kernelspec": {
   "display_name": "Synapse PySpark",
   "language": "Python",
   "name": "synapse_pyspark"
  },
  "language_info": {
   "name": "python"
  },
  "microsoft": {
   "language": "python"
  },
  "nteract": {
   "version": "nteract-front-end@1.0.0"
  },
  "spark_compute": {
   "compute_id": "/trident/default"
  },
  "trident": {
   "lakehouse": {
    "default_lakehouse": "1a5d0aaf-573b-472b-b0b3-48c8afeb4ff2",
    "default_lakehouse_name": "Garmin",
    "default_lakehouse_workspace_id": "cdf6e060-d604-4869-9fdb-b4afea0ab27e",
    "known_lakehouses": [
     {
      "id": "1a5d0aaf-573b-472b-b0b3-48c8afeb4ff2"
     }
    ]
   }
  },
  "widgets": {}
 },
 "nbformat": 4,
 "nbformat_minor": 5
}
