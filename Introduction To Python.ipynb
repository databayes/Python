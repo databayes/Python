{
 "cells": [
  {
   "cell_type": "code",
   "execution_count": null,
   "id": "a64bbc55",
   "metadata": {
    "jupyter": {
     "outputs_hidden": false,
     "source_hidden": false
    },
    "nteract": {
     "transient": {
      "deleting": false
     }
    }
   },
   "outputs": [],
   "source": [
    "\n",
    "\n",
    "import pandas as pd\n",
    "# Load data into pandas DataFrame from \"/lakehouse/default/\" + \"Files/HR_file.csv\"\n",
    "df = pd.read_csv(\"/lakehouse/default/\" + \"Files/HR_file.csv\", delimiter=',')\n",
    "display(df)\n"
   ]
  },
  {
   "cell_type": "markdown",
   "id": "34c8ff79",
   "metadata": {
    "nteract": {
     "transient": {
      "deleting": false
     }
    }
   },
   "source": [
    "#### **Purpose**: This session aims to unlock Python’s potential for data analytics, making it accessible\n",
    "###### **Created by**: Sue\n",
    "###### Introduction to Python and data analysis\n",
    "1. Python basics: syntax, variables, data types, control structures, functions and libraries\n",
    "2. The Pandas library: dataframes and series, data import/export, filter, sort\n",
    "3. Data cleaning & visualisation e.g., handling missing data\n",
    "4. Visualisation with the matplotlib/seaborn packages"
   ]
  },
  {
   "cell_type": "code",
   "execution_count": null,
   "id": "0e21e519",
   "metadata": {
    "jupyter": {
     "outputs_hidden": false,
     "source_hidden": false
    },
    "nteract": {
     "transient": {
      "deleting": false
     }
    }
   },
   "outputs": [],
   "source": [
    "#To write a comment\n",
    "#Enter allows you to enter data within the cell, Shift+Enter\n",
    "print(\"Hello World\")"
   ]
  },
  {
   "cell_type": "code",
   "execution_count": null,
   "id": "10b69d36",
   "metadata": {
    "jupyter": {
     "outputs_hidden": false,
     "source_hidden": false
    },
    "nteract": {
     "transient": {
      "deleting": false
     }
    }
   },
   "outputs": [],
   "source": [
    "print(\"\\\\n allows you to add in a new line. \\nUsing the \\\\ allows you to use a special character\")"
   ]
  },
  {
   "cell_type": "markdown",
   "id": "4ef676d9",
   "metadata": {
    "nteract": {
     "transient": {
      "deleting": false
     }
    }
   },
   "source": [
    "Choosing the cell to be Markdown allows you to write text and format it to make your scripts readable.  \n",
    "Highly recommend the Seattle data guy's posts:<br>\n",
    "https://www.theseattledataguy.com/intro-data-analysis-everyone-part-1/#page-content"
   ]
  },
  {
   "cell_type": "code",
   "execution_count": null,
   "id": "695051cd",
   "metadata": {
    "jupyter": {
     "outputs_hidden": false,
     "source_hidden": false
    },
    "nteract": {
     "transient": {
      "deleting": false
     }
    }
   },
   "outputs": [],
   "source": [
    "if 5 > 2:\n",
    "    print(\"This is correct, duh\")"
   ]
  },
  {
   "cell_type": "code",
   "execution_count": null,
   "id": "bc8bc0ad",
   "metadata": {
    "jupyter": {
     "outputs_hidden": false,
     "source_hidden": false
    },
    "nteract": {
     "transient": {
      "deleting": false
     }
    }
   },
   "outputs": [],
   "source": [
    "# Use of an if leads us to the if logic\n",
    "\n",
    "if 5 > 2:\n",
    "    print(\"Yes\")\n",
    "else:\n",
    "    print(\"No\")"
   ]
  },
  {
   "cell_type": "markdown",
   "id": "293c287b",
   "metadata": {
    "nteract": {
     "transient": {
      "deleting": false
     }
    }
   },
   "source": [
    "###### **Variables**\n",
    "A variable is created the moment you assign a value to it\n",
    "###### Variable Rules:\n",
    "- must start with a letter or _\n",
    "- cannot start with a number\n",
    "- can only contain alpha-numeric characters and _\n",
    "- are CASE-sensitive\n",
    "- cannot be a keyword"
   ]
  },
  {
   "cell_type": "code",
   "execution_count": null,
   "id": "2d016f92",
   "metadata": {
    "jupyter": {
     "outputs_hidden": false,
     "source_hidden": false
    },
    "nteract": {
     "transient": {
      "deleting": false
     }
    }
   },
   "outputs": [],
   "source": [
    "# This will always lead us to Y so perhaps we might want to specify a variable\n",
    "\n",
    "a = 5\n",
    "b = 2\n",
    "\n",
    "if a > b:\n",
    "    print(\"yes, duh\")\n",
    "else:\n",
    "    print(\"no\")"
   ]
  },
  {
   "cell_type": "code",
   "execution_count": null,
   "id": "20b6d56b",
   "metadata": {
    "jupyter": {
     "outputs_hidden": false,
     "source_hidden": false
    },
    "nteract": {
     "transient": {
      "deleting": false
     }
    }
   },
   "outputs": [],
   "source": [
    "# Define two variables and add in a multiple if statements\n",
    "number = 10\n",
    "threshold = 12\n",
    "\n",
    "# If-then-else statement to compare number and threshold\n",
    "if number > threshold:\n",
    "    print(\"The number is greater than the threshold.\")\n",
    "elif number == threshold:\n",
    "    print(\"The number is equal to the threshold.\")\n",
    "else:\n",
    "    print(\"The number is less than the threshold.\")"
   ]
  },
  {
   "cell_type": "code",
   "execution_count": null,
   "id": "ef89b5c0",
   "metadata": {
    "jupyter": {
     "outputs_hidden": false,
     "source_hidden": false
    },
    "nteract": {
     "transient": {
      "deleting": false
     }
    }
   },
   "outputs": [],
   "source": [
    "def compare_values(number, threshold):\n",
    "    \"\"\"\n",
    "    Compares the number against the threshold and prints a message based on the comparison.\n",
    "\n",
    "    Parameters:\n",
    "    - number: The number to compare.\n",
    "    - threshold: The threshold against which the number is compared.\n",
    "    \"\"\"\n",
    "    if number > threshold:\n",
    "        print(\"The number is greater than the threshold.\")\n",
    "    elif number == threshold:\n",
    "        print(\"The number is equal to the threshold.\")\n",
    "    else:\n",
    "        print(\"The number is less than the threshold.\")\n",
    "\n",
    "compare_values(10,5)"
   ]
  },
  {
   "cell_type": "code",
   "execution_count": null,
   "id": "66af4abf",
   "metadata": {
    "jupyter": {
     "outputs_hidden": false,
     "source_hidden": false
    },
    "nteract": {
     "transient": {
      "deleting": false
     }
    }
   },
   "outputs": [],
   "source": [
    "compare_values(5,10)"
   ]
  },
  {
   "cell_type": "code",
   "execution_count": null,
   "id": "f22df605",
   "metadata": {
    "jupyter": {
     "outputs_hidden": false,
     "source_hidden": false
    },
    "nteract": {
     "transient": {
      "deleting": false
     }
    }
   },
   "outputs": [],
   "source": [
    "# Define a list of numbers\n",
    "numbers = [1, 2, 3, 4, 5]\n",
    "\n",
    "# Use a for loop to iterate over the list\n",
    "for number in numbers:\n",
    "    doubled = number * 2\n",
    "    #print(str(number) + \" doubled is \" + str(doubled))\n",
    "    print(f\"{number} doubled is {doubled}\")\n"
   ]
  },
  {
   "cell_type": "code",
   "execution_count": null,
   "id": "9a0a7606",
   "metadata": {
    "jupyter": {
     "outputs_hidden": false,
     "source_hidden": false
    },
    "nteract": {
     "transient": {
      "deleting": false
     }
    }
   },
   "outputs": [],
   "source": [
    "# Initialize a counter variable\n",
    "counter = 5\n",
    "\n",
    "# Loop as long as counter is greater than 0\n",
    "while counter > 0:\n",
    "    print(\"Countdown: \", counter)\n",
    "    # Decrement the counter\n",
    "    counter -= 1\n",
    "\n",
    "print(\"Lift off!\")"
   ]
  },
  {
   "cell_type": "code",
   "execution_count": null,
   "id": "d09c936c",
   "metadata": {
    "jupyter": {
     "outputs_hidden": false,
     "source_hidden": false
    },
    "nteract": {
     "transient": {
      "deleting": false
     }
    }
   },
   "outputs": [],
   "source": [
    "# Initialize the variable\n",
    "number = 0\n",
    "\n",
    "# Loop indefinitely\n",
    "while True:\n",
    "    number += 1\n",
    "    print(number)\n",
    "    # Exit loop when number reaches 5\n",
    "    if number >= 5:\n",
    "        print(\"Stopping at 5\")\n",
    "        break\n"
   ]
  },
  {
   "cell_type": "code",
   "execution_count": null,
   "id": "d6fd5f3a",
   "metadata": {
    "jupyter": {
     "outputs_hidden": false,
     "source_hidden": false
    },
    "nteract": {
     "transient": {
      "deleting": false
     }
    }
   },
   "outputs": [],
   "source": [
    "# Check if counter is an integer and non-negative\n",
    "\n",
    "counter = 5\n",
    "\n",
    "if not isinstance(counter, int) or counter < 0:\n",
    "    # More specific error message\n",
    "    raise ValueError(\"Counter must be an integer and non-negative.\")\n",
    "\n",
    "# Loop as long as counter is greater than 0\n",
    "while counter > 0:\n",
    "    print(\"Countdown:\", counter)\n",
    "    # Decrement the counter\n",
    "    counter -= 1\n",
    "\n",
    "print(\"Lift off!\")"
   ]
  },
  {
   "cell_type": "code",
   "execution_count": null,
   "id": "2c27498a",
   "metadata": {
    "jupyter": {
     "outputs_hidden": false,
     "source_hidden": false
    },
    "nteract": {
     "transient": {
      "deleting": false
     }
    }
   },
   "outputs": [],
   "source": [
    "from IPython.display import display, HTML\n",
    "\n",
    "# Initialize the variable\n",
    "number = 0\n",
    "\n",
    "# Loop indefinitely\n",
    "while True:\n",
    "    number += 1\n",
    "    print(number)\n",
    "    # Exit loop when number reaches 5\n",
    "    if number >= 5:\n",
    "        display(HTML('<b style=\"font-size: 20px;\">Stopping at 5</b>'))\n",
    "        break\n"
   ]
  },
  {
   "cell_type": "markdown",
   "id": "3917a038",
   "metadata": {
    "nteract": {
     "transient": {
      "deleting": false
     }
    }
   },
   "source": [
    "###### **NumPy**\n",
    "\n",
    "A powerful library for numerical computing in Python:\n",
    "- Efficient Array Handling  \n",
    "- Broad Range of Mathematical Functions  \n",
    "- Multi-dimensional Array Support  \n",
    "- Slicing and Indexing  \n",
    "- Integration with Other Libraries  \n",
    "    - NumPy arrays form the backbone of Pandas DataFrames and Series\n",
    "    - Matplotlib primarily handles visualisation in Python and relies on NumPy  \n",
    "    - Scikit-learn - library for Machine Learning - NumPy and SciPy"
   ]
  },
  {
   "cell_type": "markdown",
   "id": "4caeb5ae",
   "metadata": {
    "nteract": {
     "transient": {
      "deleting": false
     }
    }
   },
   "source": [
    "##### **Pandas**\n",
    "  \n",
    "Provides high-performance, easy-to-use data structures and data analysis tools:\n",
    "- Dataframe Manipulation: Intuitive handling of tabular data.  \n",
    "- Time Series Analysis: Powerful tools for time-stamped data.  \n",
    "- Data Cleaning and Preparation: Simplify preprocessing tasks.  \n",
    "- File Format Compatibility: Easy data import/export from various sources.  \n",
    "- Merging and Joining: Efficient ways to combine datasets.  \n"
   ]
  },
  {
   "cell_type": "code",
   "execution_count": null,
   "id": "f7107c7b",
   "metadata": {
    "jupyter": {
     "outputs_hidden": false,
     "source_hidden": false
    },
    "nteract": {
     "transient": {
      "deleting": false
     }
    }
   },
   "outputs": [],
   "source": [
    "import pandas as pd\n",
    "import numpy as np\n",
    "\n",
    "# Create a DataFrame from a dictionary\n",
    "data = {\n",
    "    'Temperature (C)': [20, 22, 24, 26, 28],\n",
    "    'Humidity (%)': [30, 35, 40, 45, 50]\n",
    "}\n",
    "\n",
    "#This creates a DataFrame with two columns, each column is essentially a NumPy array under the hood\n",
    "dfWeather = pd.DataFrame(data)\n",
    "print(dfWeather)"
   ]
  },
  {
   "cell_type": "code",
   "execution_count": null,
   "id": "b23712e9",
   "metadata": {
    "jupyter": {
     "outputs_hidden": false,
     "source_hidden": false
    },
    "nteract": {
     "transient": {
      "deleting": false
     }
    }
   },
   "outputs": [],
   "source": [
    "# Add a new column for temperature in Fahrenheit\n",
    "# note the syntax to select a column\n",
    "dfWeather['Temperature (F)'] = dfWeather['Temperature (C)'] * 9/5 + 32\n",
    "print(dfWeather)\n"
   ]
  },
  {
   "cell_type": "code",
   "execution_count": null,
   "id": "69223172",
   "metadata": {
    "jupyter": {
     "outputs_hidden": false,
     "source_hidden": false
    },
    "nteract": {
     "transient": {
      "deleting": false
     }
    }
   },
   "outputs": [],
   "source": [
    "# Save to csv\n",
    "dfWeather.to_csv('/lakehouse/default/' + 'Files/dfWeather.csv', index=False)"
   ]
  },
  {
   "cell_type": "code",
   "execution_count": null,
   "id": "2c02296f",
   "metadata": {
    "jupyter": {
     "outputs_hidden": false,
     "source_hidden": false
    },
    "nteract": {
     "transient": {
      "deleting": false
     }
    }
   },
   "outputs": [],
   "source": [
    "# Filter rows where Humidity is greater than 40%\n",
    "# Note the syntax - first set of brackets sepcifies the context, eg, filtering, \n",
    "# second set applies the boolean mask to the dataframe and selects only those rows\n",
    "\n",
    "high_humidity = dfWeather[dfWeather['Humidity (%)'] > 40]\n",
    "print(high_humidity)"
   ]
  },
  {
   "cell_type": "code",
   "execution_count": null,
   "id": "e206e999",
   "metadata": {
    "jupyter": {
     "outputs_hidden": false,
     "source_hidden": false
    },
    "nteract": {
     "transient": {
      "deleting": false
     }
    }
   },
   "outputs": [],
   "source": [
    "display(df)"
   ]
  },
  {
   "cell_type": "code",
   "execution_count": null,
   "id": "6eda8e59",
   "metadata": {
    "jupyter": {
     "outputs_hidden": false,
     "source_hidden": false
    },
    "nteract": {
     "transient": {
      "deleting": false
     }
    }
   },
   "outputs": [],
   "source": [
    "print(df.tail(10))"
   ]
  },
  {
   "cell_type": "code",
   "execution_count": null,
   "id": "23326069",
   "metadata": {
    "jupyter": {
     "outputs_hidden": false,
     "source_hidden": false
    },
    "nteract": {
     "transient": {
      "deleting": false
     }
    }
   },
   "outputs": [],
   "source": [
    "random_rows = df.sample(n=5)  # Change 'n' to the desired number of random rows\n",
    "\n",
    "# Print the randomly selected rows\n",
    "print(random_rows)"
   ]
  },
  {
   "cell_type": "code",
   "execution_count": null,
   "id": "06cdc0dc",
   "metadata": {
    "jupyter": {
     "outputs_hidden": false,
     "source_hidden": false
    },
    "nteract": {
     "transient": {
      "deleting": false
     }
    }
   },
   "outputs": [],
   "source": [
    "# Get a concise summary\n",
    "print(df.info())"
   ]
  },
  {
   "cell_type": "code",
   "execution_count": null,
   "id": "1768651d",
   "metadata": {
    "jupyter": {
     "outputs_hidden": false,
     "source_hidden": false
    },
    "nteract": {
     "transient": {
      "deleting": false
     }
    }
   },
   "outputs": [],
   "source": [
    "# Get a summary of the descriptive statistics of each numeric column\n",
    "print(df.describe())"
   ]
  },
  {
   "cell_type": "code",
   "execution_count": null,
   "id": "0756acc9",
   "metadata": {
    "jupyter": {
     "outputs_hidden": false,
     "source_hidden": false
    },
    "nteract": {
     "transient": {
      "deleting": false
     }
    }
   },
   "outputs": [],
   "source": [
    "columns = print(df.columns)"
   ]
  },
  {
   "cell_type": "code",
   "execution_count": null,
   "id": "a49a64d9",
   "metadata": {
    "jupyter": {
     "outputs_hidden": false,
     "source_hidden": false
    },
    "nteract": {
     "transient": {
      "deleting": false
     }
    }
   },
   "outputs": [],
   "source": [
    "column_names = df.columns.tolist()\n",
    "print(column_names)"
   ]
  },
  {
   "cell_type": "code",
   "execution_count": null,
   "id": "d14945df",
   "metadata": {
    "jupyter": {
     "outputs_hidden": false,
     "source_hidden": false
    },
    "nteract": {
     "transient": {
      "deleting": false
     }
    }
   },
   "outputs": [],
   "source": [
    "sorted_column_names_desc = sorted(column_names, reverse = True)\n",
    "print(sorted_column_names_desc)"
   ]
  },
  {
   "cell_type": "code",
   "execution_count": null,
   "id": "a94a5b40",
   "metadata": {
    "jupyter": {
     "outputs_hidden": false,
     "source_hidden": false
    },
    "nteract": {
     "transient": {
      "deleting": false
     }
    }
   },
   "outputs": [],
   "source": [
    "proper_case_sorted_column_names_desc = [name.capitalize() for name in sorted_column_names_desc]\n",
    "print(sorted(proper_case_sorted_column_names_desc))"
   ]
  },
  {
   "cell_type": "code",
   "execution_count": null,
   "id": "9e090089",
   "metadata": {
    "jupyter": {
     "outputs_hidden": false,
     "source_hidden": false
    },
    "nteract": {
     "transient": {
      "deleting": false
     }
    }
   },
   "outputs": [],
   "source": [
    "# Assuming 'column_names' is a list of column names\n",
    "for column in column_names:\n",
    "    print(f\"Column '{column}' has data type: {type(df[column][0])}\")"
   ]
  },
  {
   "cell_type": "code",
   "execution_count": null,
   "id": "092f5978",
   "metadata": {
    "jupyter": {
     "outputs_hidden": false,
     "source_hidden": false
    },
    "nteract": {
     "transient": {
      "deleting": false
     }
    }
   },
   "outputs": [],
   "source": [
    "print(df['satisfaction_level'].describe())"
   ]
  },
  {
   "cell_type": "code",
   "execution_count": null,
   "id": "80b2945b",
   "metadata": {
    "jupyter": {
     "outputs_hidden": false,
     "source_hidden": false
    },
    "nteract": {
     "transient": {
      "deleting": false
     }
    }
   },
   "outputs": [],
   "source": [
    "#Replace 'old_column_name' with 'new_column_name'\n",
    "new_column_name = 'average_monthly_hours'\n",
    "df.rename(columns={'average_montly_hours': new_column_name}, inplace=True)\n",
    "print(df.columns)"
   ]
  },
  {
   "cell_type": "code",
   "execution_count": null,
   "id": "0c0bd9d3",
   "metadata": {
    "jupyter": {
     "outputs_hidden": false,
     "source_hidden": false
    },
    "nteract": {
     "transient": {
      "deleting": false
     }
    }
   },
   "outputs": [],
   "source": [
    "# Replace '_' with ' ' in column names\n",
    "df.columns = [col.replace('_', ' ').title() for col in df.columns]\n",
    "\n",
    "# Now, df has updated column names with spaces instead of underscores and title casing\n",
    "print(df.columns)\n",
    "\n"
   ]
  },
  {
   "cell_type": "code",
   "execution_count": null,
   "id": "8c8e5542",
   "metadata": {
    "jupyter": {
     "outputs_hidden": false,
     "source_hidden": false
    },
    "nteract": {
     "transient": {
      "deleting": false
     }
    }
   },
   "outputs": [],
   "source": [
    "df.head()"
   ]
  },
  {
   "cell_type": "code",
   "execution_count": null,
   "id": "2154c47a",
   "metadata": {
    "jupyter": {
     "outputs_hidden": false,
     "source_hidden": false
    },
    "nteract": {
     "transient": {
      "deleting": false
     }
    }
   },
   "outputs": [],
   "source": [
    "# Check for missing values\n",
    "print(df.isnull().sum())\n",
    "df.shape"
   ]
  },
  {
   "cell_type": "code",
   "execution_count": null,
   "id": "bf922641",
   "metadata": {
    "jupyter": {
     "outputs_hidden": false,
     "source_hidden": false
    },
    "nteract": {
     "transient": {
      "deleting": false
     }
    }
   },
   "outputs": [],
   "source": [
    "nan_count = df['Satisfaction Level'].isna().sum()\n",
    "print(\"Number of NaN values in 'Satisfaction Level':\", nan_count)"
   ]
  },
  {
   "cell_type": "code",
   "execution_count": null,
   "id": "739ebeaa",
   "metadata": {
    "jupyter": {
     "outputs_hidden": false,
     "source_hidden": false
    },
    "nteract": {
     "transient": {
      "deleting": false
     }
    }
   },
   "outputs": [],
   "source": [
    "\n",
    "# Calculate the minimum and maximum values of the 'Satisfaction Level' column\n",
    "min_satisfaction = df['Satisfaction Level'].min()\n",
    "max_satisfaction = df['Satisfaction Level'].max()\n",
    "\n",
    "# Print or display the minimum and maximum values\n",
    "print(\"Minimum Satisfaction Level:\", min_satisfaction)\n",
    "print(\"Maximum Satisfaction Level:\", max_satisfaction)"
   ]
  },
  {
   "cell_type": "code",
   "execution_count": null,
   "id": "f2953f4c",
   "metadata": {
    "jupyter": {
     "outputs_hidden": false,
     "source_hidden": false
    },
    "nteract": {
     "transient": {
      "deleting": false
     }
    }
   },
   "outputs": [],
   "source": [
    "# Drop or fill missing values if needed (example)\n",
    "df_cleaned = df.dropna() # Drop rows with missing values # inplace=True would remove in place\n",
    "print(df_cleaned.shape)"
   ]
  },
  {
   "cell_type": "code",
   "execution_count": null,
   "id": "ccfd22cd",
   "metadata": {
    "jupyter": {
     "outputs_hidden": false,
     "source_hidden": false
    },
    "nteract": {
     "transient": {
      "deleting": false
     }
    }
   },
   "outputs": [],
   "source": [
    "# Get the number of rows in each DataFrame\n",
    "num_rows_df = df.shape[0]\n",
    "num_rows_df_cleaned = df_cleaned.shape[0]\n",
    "\n",
    "# Calculate the difference in the number of rows\n",
    "difference_in_rows = num_rows_df - num_rows_df_cleaned\n",
    "\n",
    "# Print the result\n",
    "print(f\"Difference in the number of rows: {difference_in_rows}\")"
   ]
  },
  {
   "cell_type": "code",
   "execution_count": null,
   "id": "35f16fdf",
   "metadata": {
    "jupyter": {
     "outputs_hidden": false,
     "source_hidden": false
    },
    "nteract": {
     "transient": {
      "deleting": false
     }
    }
   },
   "outputs": [],
   "source": [
    "# Transform 'Departments' values, then count occurrences\n",
    "df['Departments'] = df['Departments'].str.replace('_', ' ').str.title()\n",
    "department_counts = df['Departments'].value_counts()\n",
    "\n",
    "# Print the transformed and counted department names\n",
    "print(department_counts)"
   ]
  },
  {
   "cell_type": "code",
   "execution_count": null,
   "id": "652e6f7a",
   "metadata": {
    "jupyter": {
     "outputs_hidden": false,
     "source_hidden": false
    },
    "nteract": {
     "transient": {
      "deleting": false
     }
    }
   },
   "outputs": [],
   "source": [
    "# Replace 'Randd' with 'R and D' in the 'Departments' column\n",
    "df['Departments'] = df['Departments'].str.replace('Randd', 'R and D', regex=False)\n",
    "\n",
    "# Now you can count the occurrences with the updated department names\n",
    "department_counts = df['Departments'].value_counts()\n",
    "\n",
    "# Print the updated counts\n",
    "print(department_counts)"
   ]
  },
  {
   "cell_type": "code",
   "execution_count": null,
   "id": "3593c7b0",
   "metadata": {
    "jupyter": {
     "outputs_hidden": false,
     "source_hidden": false
    },
    "nteract": {
     "transient": {
      "deleting": false
     }
    }
   },
   "outputs": [],
   "source": [
    "print(df['Departments'].unique())"
   ]
  },
  {
   "cell_type": "code",
   "execution_count": null,
   "id": "41f7c650",
   "metadata": {
    "jupyter": {
     "outputs_hidden": false,
     "source_hidden": false
    },
    "nteract": {
     "transient": {
      "deleting": false
     }
    }
   },
   "outputs": [],
   "source": [
    "department_counts = df['Departments'].value_counts()\n",
    "salary_counts = df['Salary'].value_counts()\n",
    "\n",
    "print(department_counts.index.tolist())\n",
    "print(department_counts.values)\n",
    "\n",
    "print(salary_counts.index.tolist())\n",
    "print(salary_counts.values)"
   ]
  },
  {
   "cell_type": "markdown",
   "id": "757347b6",
   "metadata": {
    "nteract": {
     "transient": {
      "deleting": false
     }
    }
   },
   "source": [
    "##### **Matplotlib**\n",
    "\n",
    "- **Versatile Plotting Library**: Wide range of static, animated, and interactive plots.\n",
    "- **Highly Customizable Figures**: Detailed control over plot features.\n",
    "- **Integration with Pandas**: Seamless plotting of DataFrame objects.\n",
    "- **Multi-Platform Support**: Works across various operating systems and graphical backends.\n",
    "- **Extensive Documentation and Community**: Easy to learn with robust support.\n"
   ]
  },
  {
   "cell_type": "markdown",
   "id": "c608314f",
   "metadata": {
    "nteract": {
     "transient": {
      "deleting": false
     }
    }
   },
   "source": [
    "##### **Key Customisations:**\n",
    "\n",
    "- **Figure Size and DPI**: Adjust the dimensions and resolution of plots.\n",
    "- **Line Properties**: Customize line styles, widths, and colors.\n",
    "- **Axis Labels and Title**: Modify text properties and positioning.\n",
    "- **Legend Placement**: Control legend location and appearance.\n",
    "- **Tick Parameters**: Set the position, labels, and appearance of ticks.\n",
    "- **Grid Lines**: Enable, style, and configure grid lines for better readability.\n",
    "- **Plot Themes**: Apply predefined styles for consistent aesthetics.\n"
   ]
  },
  {
   "cell_type": "code",
   "execution_count": null,
   "id": "871e1b84",
   "metadata": {
    "jupyter": {
     "outputs_hidden": false,
     "source_hidden": false
    },
    "nteract": {
     "transient": {
      "deleting": false
     }
    }
   },
   "outputs": [],
   "source": [
    "import matplotlib.pyplot as plt\n",
    "department_counts = df['Departments'].value_counts()\n",
    "salary_counts = df['Salary'].value_counts()\n",
    "\n",
    "plt.figure(figsize=(14, 6))\n",
    "\n",
    "# Bar chart for Departments\n",
    "plt.subplot(1, 2, 1)\n",
    "plt.bar(department_counts.index.tolist(), department_counts.values, color='skyblue')\n",
    "plt.title('Distribution of Departments')\n",
    "plt.xticks(rotation=45)\n",
    "plt.ylabel('Count')\n",
    "\n",
    "# Bar chart for Salary\n",
    "plt.subplot(1, 2, 2)\n",
    "plt.bar(salary_counts.index.tolist(), salary_counts.values, color='lightgreen')\n",
    "plt.title('Distribution of Salary Levels')\n",
    "plt.ylabel('Count')\n",
    "\n",
    "plt.tight_layout()\n",
    "plt.show()\n"
   ]
  },
  {
   "cell_type": "code",
   "execution_count": null,
   "id": "17e65e9f",
   "metadata": {
    "jupyter": {
     "outputs_hidden": false,
     "source_hidden": false
    },
    "nteract": {
     "transient": {
      "deleting": false
     }
    }
   },
   "outputs": [],
   "source": [
    "import seaborn as sns\n",
    "import matplotlib.colors as mcolors\n",
    "\n",
    "# Define the color map \n",
    "colors = [\"blue\", \"lightblue\", \"pink\", \"red\"]\n",
    "cmap_name = \"cm_hot_cool\"\n",
    "cm_hot_cool = mcolors.LinearSegmentedColormap.from_list(cmap_name, colors, N=4)\n",
    "\n",
    "# Map the salary to numerical values: low=1, medium=2, high=3\n",
    "salary_mapping = {'low': 1, 'medium': 2, 'high': 3}\n",
    "df['salary_numeric'] = df['Salary'].map(salary_mapping)\n",
    "\n",
    "# Create a pivot table using the numeric salary\n",
    "pivot_table_numeric = df.pivot_table(index='Departments', columns='salary_numeric', aggfunc='size', fill_value=0)\n",
    "\n",
    "# Adjust the pivot table's columns to ensure it reflects the salary scale correctly\n",
    "pivot_table_numeric.columns = ['Low (1)', 'Medium (2)', 'High (3)']\n",
    "\n",
    "# Plotting the heatmap with numeric salary scale\n",
    "plt.figure(figsize=(12, 8))\n",
    "sns.heatmap(pivot_table_numeric, annot=True, fmt=\"d\", cmap=cm_hot_cool, cbar_kws={'label': 'Count'})\n",
    "plt.title('Heatmap of Salary Levels across Departments with Numeric Scale')\n",
    "plt.ylabel('Department')\n",
    "plt.xlabel('Salary Level')\n",
    "plt.xticks(ticks=np.arange(0.5, len(pivot_table_numeric.columns) + 0.5), labels=['Low (1)', 'Medium (2)', 'High (3)'])\n",
    "plt.show()\n"
   ]
  },
  {
   "cell_type": "code",
   "execution_count": null,
   "id": "328b1324",
   "metadata": {
    "jupyter": {
     "outputs_hidden": false,
     "source_hidden": false
    },
    "nteract": {
     "transient": {
      "deleting": false
     }
    }
   },
   "outputs": [],
   "source": [
    "plt.figure(figsize=(10, 6))\n",
    "df[['Satisfaction Level', 'Last Evaluation', 'Time Spend Company']].boxplot()\n",
    "plt.title('Box and Whisker Plots for Numeric Columns')\n",
    "plt.ylabel('Values')\n",
    "plt.tight_layout()\n",
    "plt.show()"
   ]
  },
  {
   "cell_type": "code",
   "execution_count": null,
   "id": "c34364b1",
   "metadata": {
    "jupyter": {
     "outputs_hidden": false,
     "source_hidden": false
    },
    "nteract": {
     "transient": {
      "deleting": false
     }
    }
   },
   "outputs": [],
   "source": [
    "# Create a figure and an array of subplots with 1 row and 3 columns\n",
    "fig, axes = plt.subplots(nrows=1, ncols=3, figsize=(10, 6))\n",
    "\n",
    "# List of columns to plot\n",
    "columns = ['Satisfaction Level', 'Last Evaluation', 'Time Spend Company']\n",
    "\n",
    "# Colors for the boxes\n",
    "colors = ['#ff9999', '#66b3ff', '#99ff99']\n",
    "\n",
    "# Iterate over the columns, creating a box plot for each one\n",
    "for ax, column, color in zip(axes, columns, colors):\n",
    "    # Generate the boxplot with specified color\n",
    "    bp = ax.boxplot(df[column].dropna(), patch_artist=True, medianprops=dict(color=\"yellow\", linewidth=2))\n",
    "    \n",
    "    # Color the boxes\n",
    "    for patch in bp['boxes']:\n",
    "        patch.set_facecolor(color)\n",
    "    \n",
    "    # Remove grid lines\n",
    "    ax.grid(False)\n",
    "    \n",
    "    # Set title with no spaces and proper case, replace underscores with spaces and capitalize\n",
    "    formatted_title = column.replace('_', ' ').title()\n",
    "    ax.set_title(formatted_title)\n",
    "    \n",
    "    # Set ylabel\n",
    "    ax.set_ylabel('Values')\n",
    "\n",
    "plt.tight_layout()  # Adjust subplots to fit into the figure area.\n",
    "plt.show()"
   ]
  },
  {
   "cell_type": "code",
   "execution_count": null,
   "id": "06f56864",
   "metadata": {
    "jupyter": {
     "outputs_hidden": false,
     "source_hidden": false
    },
    "nteract": {
     "transient": {
      "deleting": false
     }
    }
   },
   "outputs": [],
   "source": [
    "import seaborn as sns\n",
    "\n",
    "\n",
    "# Setting the aesthetic style of the plots\n",
    "sns.set(style=\"whitegrid\")\n",
    "\n",
    "# Creating a box plot to compare satisfaction levels across departments\n",
    "plt.figure(figsize=(12, 6))\n",
    "sns.boxplot(x='Departments', y='Satisfaction Level', data=df)\n",
    "plt.title('Comparison of Employee Satisfaction Levels by Department')\n",
    "plt.xticks(rotation=45)\n",
    "plt.ylabel('Satisfaction Level')\n",
    "plt.xlabel('Department')\n",
    "\n",
    "# Show plot\n",
    "plt.tight_layout()\n",
    "plt.show()"
   ]
  },
  {
   "cell_type": "code",
   "execution_count": null,
   "id": "987c1d17",
   "metadata": {
    "jupyter": {
     "outputs_hidden": false,
     "source_hidden": false
    },
    "nteract": {
     "transient": {
      "deleting": false
     }
    }
   },
   "outputs": [],
   "source": [
    "# Calculate the average satisfaction level by length of service for the sales department and overall\n",
    "avg_satisfaction_by_service_sales = df[df['Departments'] == 'Sales'].groupby('Time Spend Company')['Satisfaction Level'].mean().reset_index()\n",
    "avg_satisfaction_by_service_overall = df.groupby('Time Spend Company')['Satisfaction Level'].mean().reset_index()\n",
    "\n",
    "# Plotting\n",
    "plt.figure(figsize=(10, 6))\n",
    "plt.plot(avg_satisfaction_by_service_sales['Time Spend Company'], avg_satisfaction_by_service_sales['Satisfaction Level'], label='Sales')\n",
    "plt.plot(avg_satisfaction_by_service_overall['Time Spend Company'], avg_satisfaction_by_service_overall['Satisfaction Level'], label='Overall', linestyle='--')\n",
    "plt.title('Average Satisfaction Level by Length of Service')\n",
    "plt.xlabel('Length of Service (Years)')\n",
    "plt.ylabel('Average Satisfaction Level')\n",
    "plt.legend()\n",
    "plt.show()"
   ]
  },
  {
   "cell_type": "code",
   "execution_count": null,
   "id": "e0d47a64",
   "metadata": {
    "jupyter": {
     "outputs_hidden": false,
     "source_hidden": false
    },
    "nteract": {
     "transient": {
      "deleting": false
     }
    }
   },
   "outputs": [],
   "source": [
    "sales_salary_satisfaction = df[df['Departments'] == 'Sales'].groupby('Salary')['Satisfaction Level'].mean().sort_values().reset_index()\n",
    "overall_salary_satisfaction = df.groupby('Salary')['Satisfaction Level'].mean().sort_values().reset_index()\n",
    "\n",
    "# Plotting\n",
    "plt.figure(figsize=(10, 6))\n",
    "plt.plot(sales_salary_satisfaction['Salary'], sales_salary_satisfaction['Satisfaction Level'], label='Sales', marker='o')\n",
    "plt.plot(overall_salary_satisfaction['Salary'], overall_salary_satisfaction['Satisfaction Level'], label='Overall', marker='o', linestyle='--')\n",
    "plt.title('Average Satisfaction Level by Salary Level')\n",
    "plt.xlabel('Salary Level')\n",
    "plt.ylabel('Average Satisfaction Level')\n",
    "plt.legend()\n",
    "plt.show()"
   ]
  }
 ],
 "metadata": {
  "kernel_info": {
   "name": "synapse_pyspark"
  },
  "kernelspec": {
   "display_name": "Python 3 (ipykernel)",
   "language": "python",
   "name": "python3"
  },
  "language_info": {
   "codemirror_mode": {
    "name": "ipython",
    "version": 3
   },
   "file_extension": ".py",
   "mimetype": "text/x-python",
   "name": "python",
   "nbconvert_exporter": "python",
   "pygments_lexer": "ipython3",
   "version": "3.11.5"
  },
  "microsoft": {
   "language": "python"
  },
  "nteract": {
   "version": "nteract-front-end@1.0.0"
  },
  "spark_compute": {
   "compute_id": "/trident/default"
  },
  "synapse_widget": {
   "state": {},
   "version": "0.1"
  },
  "trident": {
   "lakehouse": {
    "default_lakehouse": "a1121598-372c-4ac8-bc11-78500c7274bc",
    "default_lakehouse_name": "PythonIntroduction",
    "default_lakehouse_workspace_id": "1fe39462-9846-4fe4-93dd-46978e9def3a",
    "known_lakehouses": [
     {
      "id": "a1121598-372c-4ac8-bc11-78500c7274bc"
     }
    ]
   }
  },
  "widgets": {}
 },
 "nbformat": 4,
 "nbformat_minor": 5
}
