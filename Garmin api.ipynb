{
 "cells": [
  {
   "cell_type": "code",
   "execution_count": null,
   "id": "8bc06ce1-97b4-4d4a-ad70-dd872a8238cd",
   "metadata": {},
   "outputs": [],
   "source": [
    "%pip install garminconnect"
   ]
  },
  {
   "cell_type": "code",
   "execution_count": null,
   "id": "c6d139c0-b3c8-43ba-981a-eb4546823d08",
   "metadata": {
    "jupyter": {
     "outputs_hidden": false,
     "source_hidden": false
    },
    "nteract": {
     "transient": {
      "deleting": false
     }
    }
   },
   "outputs": [],
   "source": [
    "from garminconnect import Garmin\n",
    "import datetime\n",
    "import pandas as pd\n",
    "import matplotlib.pyplot as plt\n",
    "from cryptography.fernet import Fernet\n",
    "\n",
    "\n"
   ]
  },
  {
   "cell_type": "code",
   "execution_count": null,
   "id": "ff99f4b1-13c6-45b0-8250-f014606dda13",
   "metadata": {
    "jupyter": {
     "outputs_hidden": false,
     "source_hidden": false
    },
    "nteract": {
     "transient": {
      "deleting": false
     }
    }
   },
   "outputs": [],
   "source": [
    "# Load your previously stored key\n",
    "key_path = \"/lakehouse/default/Files/Cryptography/my_encryption_key.key\"\n",
    "with open(key_path, 'rb') as mykey:\n",
    "    key = mykey.read()\n",
    "cipher_suite = Fernet(key)\n",
    "\n",
    "# Correct path for the encrypted credentials\n",
    "encrypted_credentials_path = \"/lakehouse/default/Files/Cryptography/encrypted_credentials.txt\"\n",
    "\n",
    "# Load the encrypted credentials from their file\n",
    "with open(encrypted_credentials_path, 'rb') as file:\n",
    "    encrypted_username, encrypted_password = [line.strip() for line in file.readlines()]\n",
    "\n",
    "# Decrypt your credentials\n",
    "decrypted_username = cipher_suite.decrypt(encrypted_username).decode('utf-8')\n",
    "decrypted_password = cipher_suite.decrypt(encrypted_password).decode('utf-8')\n"
   ]
  },
  {
   "cell_type": "code",
   "execution_count": null,
   "id": "6161fc52-2cdb-4d74-90f2-78b0e584a1a2",
   "metadata": {
    "jupyter": {
     "outputs_hidden": false,
     "source_hidden": false
    },
    "nteract": {
     "transient": {
      "deleting": false
     }
    }
   },
   "outputs": [],
   "source": [
    "\n",
    "\n",
    "# Initialize the Garmin API client\n",
    "api = Garmin(decrypted_username, decrypted_password)\n",
    "\n",
    "# Attempt to login\n",
    "try:\n",
    "    api.login()\n",
    "    print(\"Login successful.\")\n",
    "except Exception as e:\n",
    "    print(f\"An error occurred while logging in: {e}\")\n",
    "\n",
    "# Set the start and end date nine months apart\n",
    "activity_start_date = datetime.date(2023, 4, 1)\n",
    "activity_end_date = datetime.date.today()\n",
    "\n",
    "# After successful login, attempt to fetch activities\n",
    "try:\n",
    "    activities = api.get_activities_by_date(activity_start_date.isoformat(), activity_end_date.isoformat())\n",
    "    print(f\"Fetched {len(activities)} activities.\")\n",
    "except Exception as e:\n",
    "    print(f\"An error occurred while fetching activities: {e}\")\n",
    "\n",
    "  "
   ]
  },
  {
   "cell_type": "code",
   "execution_count": null,
   "id": "9c499f69-b83a-4d1e-9e6b-b983d1d215b9",
   "metadata": {
    "jupyter": {
     "outputs_hidden": false,
     "source_hidden": false
    },
    "nteract": {
     "transient": {
      "deleting": false
     }
    }
   },
   "outputs": [],
   "source": [
    "activities_df = pd.DataFrame(activities)"
   ]
  },
  {
   "cell_type": "code",
   "execution_count": null,
   "id": "7c6fe7b4-493a-487f-8af7-88ac1b0070ff",
   "metadata": {
    "jupyter": {
     "outputs_hidden": false,
     "source_hidden": false
    },
    "nteract": {
     "transient": {
      "deleting": false
     }
    }
   },
   "outputs": [],
   "source": [
    "activities_df.columns\n"
   ]
  },
  {
   "cell_type": "code",
   "execution_count": null,
   "id": "46123009-a60c-4da1-b5ce-26028998e17d",
   "metadata": {
    "jupyter": {
     "outputs_hidden": false,
     "source_hidden": false
    },
    "nteract": {
     "transient": {
      "deleting": false
     }
    }
   },
   "outputs": [],
   "source": [
    "\n",
    "pathway = \"abfss://cdf6e060-d604-4869-9fdb-b4afea0ab27e@onelake.dfs.fabric.microsoft.com/1a5d0aaf-573b-472b-b0b3-48c8afeb4ff2/Files/DI-Connect-Fitness/\"\n",
    "file = \"activities.parquet\"\n",
    "full_path = f\"{pathway}{file}\"\n",
    "activities_df.to_parquet(full_path, engine='pyarrow')"
   ]
  },
  {
   "cell_type": "code",
   "execution_count": null,
   "id": "ccb6e521-caab-4dbb-90cd-6fdfcdc8beb4",
   "metadata": {
    "collapsed": false,
    "jupyter": {
     "outputs_hidden": false,
     "source_hidden": false
    },
    "nteract": {
     "transient": {
      "deleting": false
     }
    }
   },
   "outputs": [],
   "source": [
    "dfp = spark.read.parquet(\"Files/DI-Connect-Fitness/activities.parquet\")\n",
    "# dfp now is a Spark DataFrame containing parquet data from \"Files/DI-Connect-Fitness/activities.parquet\".\n",
    "display(dfp)"
   ]
  },
  {
   "cell_type": "code",
   "execution_count": null,
   "id": "b88321fb-83f5-4f9b-af1c-33e6297a478d",
   "metadata": {
    "jupyter": {
     "outputs_hidden": false,
     "source_hidden": false
    },
    "nteract": {
     "transient": {
      "deleting": false
     }
    }
   },
   "outputs": [],
   "source": [
    "dfp.write.mode(\"overwrite\").format(\"delta\").saveAsTable(\"N_G_Table\")"
   ]
  }
 ],
 "metadata": {
  "kernel_info": {
   "name": "synapse_pyspark"
  },
  "kernelspec": {
   "display_name": "Synapse PySpark",
   "language": "Python",
   "name": "synapse_pyspark"
  },
  "language_info": {
   "name": "python"
  },
  "microsoft": {
   "language": "python"
  },
  "nteract": {
   "version": "nteract-front-end@1.0.0"
  },
  "spark_compute": {
   "compute_id": "/trident/default"
  },
  "synapse_widget": {
   "state": {},
   "version": "0.1"
  },
  "trident": {
   "lakehouse": {
    "default_lakehouse": "1a5d0aaf-573b-472b-b0b3-48c8afeb4ff2",
    "default_lakehouse_name": "Garmin",
    "default_lakehouse_workspace_id": "cdf6e060-d604-4869-9fdb-b4afea0ab27e",
    "known_lakehouses": [
     {
      "id": "1a5d0aaf-573b-472b-b0b3-48c8afeb4ff2"
     }
    ]
   }
  },
  "widgets": {}
 },
 "nbformat": 4,
 "nbformat_minor": 5
}
